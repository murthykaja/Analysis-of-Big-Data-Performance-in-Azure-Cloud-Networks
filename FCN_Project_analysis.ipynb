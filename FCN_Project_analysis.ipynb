{
  "nbformat": 4,
  "nbformat_minor": 0,
  "metadata": {
    "colab": {
      "name": "FCN Project analysis.ipynb",
      "provenance": []
    },
    "kernelspec": {
      "name": "python3",
      "display_name": "Python 3"
    },
    "language_info": {
      "name": "python"
    }
  },
  "cells": [
    {
      "cell_type": "code",
      "metadata": {
        "colab": {
          "base_uri": "https://localhost:8080/"
        },
        "id": "N-_ttKr3iig8",
        "outputId": "61593a83-650c-4c27-d39b-ae5a4bcfcd8d"
      },
      "source": [
        "from google.colab import drive\n",
        "drive.mount('/gdrive')"
      ],
      "execution_count": 1,
      "outputs": [
        {
          "output_type": "stream",
          "name": "stdout",
          "text": [
            "Mounted at /gdrive\n"
          ]
        }
      ]
    },
    {
      "cell_type": "code",
      "metadata": {
        "colab": {
          "base_uri": "https://localhost:8080/"
        },
        "id": "Kx1UL8KsipsR",
        "outputId": "b9e01807-1259-4a52-e6b1-f0c6ece96f73"
      },
      "source": [
        "cd /gdrive/MyDrive/Masters/FCNProject"
      ],
      "execution_count": 3,
      "outputs": [
        {
          "output_type": "stream",
          "name": "stdout",
          "text": [
            "/gdrive/MyDrive/Masters/FCNProject\n"
          ]
        }
      ]
    },
    {
      "cell_type": "code",
      "metadata": {
        "id": "Xj5c6M0XhrNY"
      },
      "source": [
        "import numpy as np\n",
        "import seaborn as sns\n",
        "import matplotlib.pyplot as plt\n",
        "import numpy as np\n",
        "import matplotlib.pyplot as plt\n",
        "import pandas as pd"
      ],
      "execution_count": 4,
      "outputs": []
    },
    {
      "cell_type": "markdown",
      "metadata": {
        "id": "kbr6C3KeKKOl"
      },
      "source": [
        "#DiffVnetClient_onlybd.txt\n",
        " f_client_diff_vnet_onlybd.txt"
      ]
    },
    {
      "cell_type": "code",
      "metadata": {
        "id": "V68K6qSIiR6p"
      },
      "source": [
        "diff_vent_5 = pd.read_csv('DiffVnetClient_onlybd.txt')\n",
        "diff_vent_10 = pd.read_csv('f_client_diff_vnet_onlybd.txt')\n",
        "diff_vent_5.reset_index(level=0,inplace=True)\n",
        "diff_vent_10.reset_index(level=0,inplace=True)"
      ],
      "execution_count": null,
      "outputs": []
    },
    {
      "cell_type": "code",
      "metadata": {
        "id": "JyJudkjWjovp"
      },
      "source": [
        "# train_df = train_df.rename(columns={0:\"Bandwidth\"})"
      ],
      "execution_count": null,
      "outputs": []
    },
    {
      "cell_type": "code",
      "metadata": {
        "id": "eic93OEksvfk"
      },
      "source": [
        "train_df =train_df.dropna()"
      ],
      "execution_count": null,
      "outputs": []
    },
    {
      "cell_type": "code",
      "metadata": {
        "id": "6ppuizSEtMh-"
      },
      "source": [
        "a = pd.to_numeric(df.a, errors='coerce')\n",
        "idx = a.isna()"
      ],
      "execution_count": null,
      "outputs": []
    },
    {
      "cell_type": "code",
      "metadata": {
        "id": "0gvS4Zblthe4"
      },
      "source": [
        "diff_vent_5 = diff_vent_5.loc[diff_vent_5[\"Bandwidth\"]!=\"None\"]\n",
        "diff_vent_10 = diff_vent_10.loc[diff_vent_10[\"Bandwidth\"]!=\"None\"]"
      ],
      "execution_count": null,
      "outputs": []
    },
    {
      "cell_type": "code",
      "metadata": {
        "id": "viVz9FM5oO-O"
      },
      "source": [
        "diff_vent_5[\"Bandwidth\"]=diff_vent_5[\"Bandwidth\"].astype(float)\n",
        "diff_vent_10[\"Bandwidth\"]=diff_vent_10[\"Bandwidth\"].astype(float)"
      ],
      "execution_count": null,
      "outputs": []
    },
    {
      "cell_type": "code",
      "metadata": {
        "colab": {
          "base_uri": "https://localhost:8080/"
        },
        "id": "IBF8AzCkLCVf",
        "outputId": "872194e5-3edf-4209-8b02-3196b610802c"
      },
      "source": [
        "diff_vent_10[\"Bandwidth\"].min()"
      ],
      "execution_count": 147,
      "outputs": [
        {
          "output_type": "execute_result",
          "data": {
            "text/plain": [
              "1.28"
            ]
          },
          "metadata": {},
          "execution_count": 147
        }
      ]
    },
    {
      "cell_type": "code",
      "metadata": {
        "colab": {
          "base_uri": "https://localhost:8080/",
          "height": 206
        },
        "id": "8V_IW5v7jEhL",
        "outputId": "407ae769-e8c9-4ffe-bcc3-75909d3ff1b4"
      },
      "source": [
        "diff_vent_5.head()"
      ],
      "execution_count": null,
      "outputs": [
        {
          "output_type": "execute_result",
          "data": {
            "text/html": [
              "<div>\n",
              "<style scoped>\n",
              "    .dataframe tbody tr th:only-of-type {\n",
              "        vertical-align: middle;\n",
              "    }\n",
              "\n",
              "    .dataframe tbody tr th {\n",
              "        vertical-align: top;\n",
              "    }\n",
              "\n",
              "    .dataframe thead th {\n",
              "        text-align: right;\n",
              "    }\n",
              "</style>\n",
              "<table border=\"1\" class=\"dataframe\">\n",
              "  <thead>\n",
              "    <tr style=\"text-align: right;\">\n",
              "      <th></th>\n",
              "      <th>index</th>\n",
              "      <th>Bandwidth</th>\n",
              "    </tr>\n",
              "  </thead>\n",
              "  <tbody>\n",
              "    <tr>\n",
              "      <th>0</th>\n",
              "      <td>0</td>\n",
              "      <td>1.93</td>\n",
              "    </tr>\n",
              "    <tr>\n",
              "      <th>1</th>\n",
              "      <td>1</td>\n",
              "      <td>1.87</td>\n",
              "    </tr>\n",
              "    <tr>\n",
              "      <th>2</th>\n",
              "      <td>2</td>\n",
              "      <td>1.92</td>\n",
              "    </tr>\n",
              "    <tr>\n",
              "      <th>3</th>\n",
              "      <td>3</td>\n",
              "      <td>2.06</td>\n",
              "    </tr>\n",
              "    <tr>\n",
              "      <th>4</th>\n",
              "      <td>4</td>\n",
              "      <td>1.57</td>\n",
              "    </tr>\n",
              "  </tbody>\n",
              "</table>\n",
              "</div>"
            ],
            "text/plain": [
              "   index  Bandwidth\n",
              "0      0       1.93\n",
              "1      1       1.87\n",
              "2      2       1.92\n",
              "3      3       2.06\n",
              "4      4       1.57"
            ]
          },
          "metadata": {},
          "execution_count": 9
        }
      ]
    },
    {
      "cell_type": "code",
      "metadata": {
        "colab": {
          "base_uri": "https://localhost:8080/",
          "height": 206
        },
        "id": "dg5rHNGjpU7L",
        "outputId": "5bc89953-5c2d-41db-9795-a7f8a5b18625"
      },
      "source": [
        "diff_vent_10.head()"
      ],
      "execution_count": null,
      "outputs": [
        {
          "output_type": "execute_result",
          "data": {
            "text/html": [
              "<div>\n",
              "<style scoped>\n",
              "    .dataframe tbody tr th:only-of-type {\n",
              "        vertical-align: middle;\n",
              "    }\n",
              "\n",
              "    .dataframe tbody tr th {\n",
              "        vertical-align: top;\n",
              "    }\n",
              "\n",
              "    .dataframe thead th {\n",
              "        text-align: right;\n",
              "    }\n",
              "</style>\n",
              "<table border=\"1\" class=\"dataframe\">\n",
              "  <thead>\n",
              "    <tr style=\"text-align: right;\">\n",
              "      <th></th>\n",
              "      <th>index</th>\n",
              "      <th>Bandwidth</th>\n",
              "    </tr>\n",
              "  </thead>\n",
              "  <tbody>\n",
              "    <tr>\n",
              "      <th>0</th>\n",
              "      <td>0</td>\n",
              "      <td>2.21</td>\n",
              "    </tr>\n",
              "    <tr>\n",
              "      <th>1</th>\n",
              "      <td>1</td>\n",
              "      <td>1.95</td>\n",
              "    </tr>\n",
              "    <tr>\n",
              "      <th>2</th>\n",
              "      <td>2</td>\n",
              "      <td>2.26</td>\n",
              "    </tr>\n",
              "    <tr>\n",
              "      <th>3</th>\n",
              "      <td>3</td>\n",
              "      <td>2.10</td>\n",
              "    </tr>\n",
              "    <tr>\n",
              "      <th>4</th>\n",
              "      <td>4</td>\n",
              "      <td>2.16</td>\n",
              "    </tr>\n",
              "  </tbody>\n",
              "</table>\n",
              "</div>"
            ],
            "text/plain": [
              "   index  Bandwidth\n",
              "0      0       2.21\n",
              "1      1       1.95\n",
              "2      2       2.26\n",
              "3      3       2.10\n",
              "4      4       2.16"
            ]
          },
          "metadata": {},
          "execution_count": 10
        }
      ]
    },
    {
      "cell_type": "code",
      "metadata": {
        "colab": {
          "base_uri": "https://localhost:8080/",
          "height": 502
        },
        "id": "sFSG2GMjnqK_",
        "outputId": "7b7588a5-8a1b-4d71-e981-da90da8fb86f"
      },
      "source": [
        "import seaborn as sns\n",
        "sns.set_theme(style=\"whitegrid\")\n",
        "sns.set(rc={'figure.figsize':(7,8)})\n",
        "# ax = sns.boxplot(x=train_df[\"total_bill\"])\n",
        "diff_vent_5[\"seconds\"]=5\n",
        "diff_vent_10[\"seconds\"]=10\n",
        "box_df=pd.concat([diff_vent_5, diff_vent_10])  \n",
        "box_df[\"Bandwidth_in_GBits_per_sec\"] = box_df[\"Bandwidth\"]\n",
        "# ax = sns.boxplot(x=\"box_df\", y=\"value\", hue=\"Letter\", data=mdf)    \n",
        "ax = sns.boxplot(x=\"sleep_secs\", y=\"Bandwidth_in_GBits_per_sec\", data=box_df, showfliers = True)\n",
        "plt.show()\n"
      ],
      "execution_count": null,
      "outputs": [
        {
          "output_type": "display_data",
          "data": {
            "image/png": "[encoded data removed]",
            "text/plain": [
              "<Figure size 504x576 with 1 Axes>"
            ]
          },
          "metadata": {}
        }
      ]
    },
    {
      "cell_type": "code",
      "metadata": {
        "id": "RS1EPty3kMUW",
        "colab": {
          "base_uri": "https://localhost:8080/",
          "height": 424
        },
        "outputId": "ccf5104d-8cbd-45f8-9282-39ed220019bd"
      },
      "source": [
        "stats_df_5 = diff_vent_5.groupby('Bandwidth')['Bandwidth'].agg('count').pipe(pd.DataFrame).rename(columns = {'Bandwidth': 'frequency'})\n",
        "\n",
        "# PDF\n",
        "stats_df_5['pdf'] = stats_df_5['frequency'] / sum(stats_df_5['frequency'])\n",
        "\n",
        "# CDF\n",
        "stats_df_5['cdf'] = stats_df_5['pdf'].cumsum()\n",
        "stats_df_5 = stats_df_5.reset_index()\n",
        "stats_df_5"
      ],
      "execution_count": null,
      "outputs": [
        {
          "output_type": "execute_result",
          "data": {
            "text/html": [
              "<div>\n",
              "<style scoped>\n",
              "    .dataframe tbody tr th:only-of-type {\n",
              "        vertical-align: middle;\n",
              "    }\n",
              "\n",
              "    .dataframe tbody tr th {\n",
              "        vertical-align: top;\n",
              "    }\n",
              "\n",
              "    .dataframe thead th {\n",
              "        text-align: right;\n",
              "    }\n",
              "</style>\n",
              "<table border=\"1\" class=\"dataframe\">\n",
              "  <thead>\n",
              "    <tr style=\"text-align: right;\">\n",
              "      <th></th>\n",
              "      <th>Bandwidth</th>\n",
              "      <th>frequency</th>\n",
              "      <th>pdf</th>\n",
              "      <th>cdf</th>\n",
              "    </tr>\n",
              "  </thead>\n",
              "  <tbody>\n",
              "    <tr>\n",
              "      <th>0</th>\n",
              "      <td>0.605</td>\n",
              "      <td>1</td>\n",
              "      <td>0.000204</td>\n",
              "      <td>0.000204</td>\n",
              "    </tr>\n",
              "    <tr>\n",
              "      <th>1</th>\n",
              "      <td>1.200</td>\n",
              "      <td>1</td>\n",
              "      <td>0.000204</td>\n",
              "      <td>0.000407</td>\n",
              "    </tr>\n",
              "    <tr>\n",
              "      <th>2</th>\n",
              "      <td>1.330</td>\n",
              "      <td>1</td>\n",
              "      <td>0.000204</td>\n",
              "      <td>0.000611</td>\n",
              "    </tr>\n",
              "    <tr>\n",
              "      <th>3</th>\n",
              "      <td>1.520</td>\n",
              "      <td>1</td>\n",
              "      <td>0.000204</td>\n",
              "      <td>0.000814</td>\n",
              "    </tr>\n",
              "    <tr>\n",
              "      <th>4</th>\n",
              "      <td>1.540</td>\n",
              "      <td>1</td>\n",
              "      <td>0.000204</td>\n",
              "      <td>0.001018</td>\n",
              "    </tr>\n",
              "    <tr>\n",
              "      <th>...</th>\n",
              "      <td>...</td>\n",
              "      <td>...</td>\n",
              "      <td>...</td>\n",
              "      <td>...</td>\n",
              "    </tr>\n",
              "    <tr>\n",
              "      <th>122</th>\n",
              "      <td>2.770</td>\n",
              "      <td>6</td>\n",
              "      <td>0.001221</td>\n",
              "      <td>0.997151</td>\n",
              "    </tr>\n",
              "    <tr>\n",
              "      <th>123</th>\n",
              "      <td>2.780</td>\n",
              "      <td>7</td>\n",
              "      <td>0.001425</td>\n",
              "      <td>0.998575</td>\n",
              "    </tr>\n",
              "    <tr>\n",
              "      <th>124</th>\n",
              "      <td>2.790</td>\n",
              "      <td>4</td>\n",
              "      <td>0.000814</td>\n",
              "      <td>0.999389</td>\n",
              "    </tr>\n",
              "    <tr>\n",
              "      <th>125</th>\n",
              "      <td>2.810</td>\n",
              "      <td>2</td>\n",
              "      <td>0.000407</td>\n",
              "      <td>0.999796</td>\n",
              "    </tr>\n",
              "    <tr>\n",
              "      <th>126</th>\n",
              "      <td>2.820</td>\n",
              "      <td>1</td>\n",
              "      <td>0.000204</td>\n",
              "      <td>1.000000</td>\n",
              "    </tr>\n",
              "  </tbody>\n",
              "</table>\n",
              "<p>127 rows × 4 columns</p>\n",
              "</div>"
            ],
            "text/plain": [
              "     Bandwidth  frequency       pdf       cdf\n",
              "0        0.605          1  0.000204  0.000204\n",
              "1        1.200          1  0.000204  0.000407\n",
              "2        1.330          1  0.000204  0.000611\n",
              "3        1.520          1  0.000204  0.000814\n",
              "4        1.540          1  0.000204  0.001018\n",
              "..         ...        ...       ...       ...\n",
              "122      2.770          6  0.001221  0.997151\n",
              "123      2.780          7  0.001425  0.998575\n",
              "124      2.790          4  0.000814  0.999389\n",
              "125      2.810          2  0.000407  0.999796\n",
              "126      2.820          1  0.000204  1.000000\n",
              "\n",
              "[127 rows x 4 columns]"
            ]
          },
          "metadata": {},
          "execution_count": 22
        }
      ]
    },
    {
      "cell_type": "code",
      "metadata": {
        "colab": {
          "base_uri": "https://localhost:8080/",
          "height": 424
        },
        "id": "Z5-gB1PvPu4H",
        "outputId": "59a6f73d-b427-4b5b-c639-1c8537309b95"
      },
      "source": [
        "stats_df_10 = diff_vent_10.groupby('Bandwidth')['Bandwidth'].agg('count').pipe(pd.DataFrame).rename(columns = {'Bandwidth': 'frequency'})\n",
        "\n",
        "# PDF\n",
        "stats_df_10['pdf'] = stats_df_10['frequency'] / sum(stats_df_10['frequency'])\n",
        "\n",
        "# CDF\n",
        "stats_df_10['cdf'] = stats_df_10['pdf'].cumsum()\n",
        "stats_df_10 = stats_df_10.reset_index()\n",
        "stats_df_10"
      ],
      "execution_count": null,
      "outputs": [
        {
          "output_type": "execute_result",
          "data": {
            "text/html": [
              "<div>\n",
              "<style scoped>\n",
              "    .dataframe tbody tr th:only-of-type {\n",
              "        vertical-align: middle;\n",
              "    }\n",
              "\n",
              "    .dataframe tbody tr th {\n",
              "        vertical-align: top;\n",
              "    }\n",
              "\n",
              "    .dataframe thead th {\n",
              "        text-align: right;\n",
              "    }\n",
              "</style>\n",
              "<table border=\"1\" class=\"dataframe\">\n",
              "  <thead>\n",
              "    <tr style=\"text-align: right;\">\n",
              "      <th></th>\n",
              "      <th>Bandwidth</th>\n",
              "      <th>frequency</th>\n",
              "      <th>pdf</th>\n",
              "      <th>cdf</th>\n",
              "    </tr>\n",
              "  </thead>\n",
              "  <tbody>\n",
              "    <tr>\n",
              "      <th>0</th>\n",
              "      <td>1.28</td>\n",
              "      <td>1</td>\n",
              "      <td>0.000232</td>\n",
              "      <td>0.000232</td>\n",
              "    </tr>\n",
              "    <tr>\n",
              "      <th>1</th>\n",
              "      <td>1.45</td>\n",
              "      <td>1</td>\n",
              "      <td>0.000232</td>\n",
              "      <td>0.000465</td>\n",
              "    </tr>\n",
              "    <tr>\n",
              "      <th>2</th>\n",
              "      <td>1.46</td>\n",
              "      <td>1</td>\n",
              "      <td>0.000232</td>\n",
              "      <td>0.000697</td>\n",
              "    </tr>\n",
              "    <tr>\n",
              "      <th>3</th>\n",
              "      <td>1.47</td>\n",
              "      <td>1</td>\n",
              "      <td>0.000232</td>\n",
              "      <td>0.000930</td>\n",
              "    </tr>\n",
              "    <tr>\n",
              "      <th>4</th>\n",
              "      <td>1.49</td>\n",
              "      <td>1</td>\n",
              "      <td>0.000232</td>\n",
              "      <td>0.001162</td>\n",
              "    </tr>\n",
              "    <tr>\n",
              "      <th>...</th>\n",
              "      <td>...</td>\n",
              "      <td>...</td>\n",
              "      <td>...</td>\n",
              "      <td>...</td>\n",
              "    </tr>\n",
              "    <tr>\n",
              "      <th>116</th>\n",
              "      <td>2.66</td>\n",
              "      <td>5</td>\n",
              "      <td>0.001162</td>\n",
              "      <td>0.996281</td>\n",
              "    </tr>\n",
              "    <tr>\n",
              "      <th>117</th>\n",
              "      <td>2.67</td>\n",
              "      <td>6</td>\n",
              "      <td>0.001395</td>\n",
              "      <td>0.997675</td>\n",
              "    </tr>\n",
              "    <tr>\n",
              "      <th>118</th>\n",
              "      <td>2.68</td>\n",
              "      <td>5</td>\n",
              "      <td>0.001162</td>\n",
              "      <td>0.998838</td>\n",
              "    </tr>\n",
              "    <tr>\n",
              "      <th>119</th>\n",
              "      <td>2.69</td>\n",
              "      <td>2</td>\n",
              "      <td>0.000465</td>\n",
              "      <td>0.999303</td>\n",
              "    </tr>\n",
              "    <tr>\n",
              "      <th>120</th>\n",
              "      <td>2.71</td>\n",
              "      <td>3</td>\n",
              "      <td>0.000697</td>\n",
              "      <td>1.000000</td>\n",
              "    </tr>\n",
              "  </tbody>\n",
              "</table>\n",
              "<p>121 rows × 4 columns</p>\n",
              "</div>"
            ],
            "text/plain": [
              "     Bandwidth  frequency       pdf       cdf\n",
              "0         1.28          1  0.000232  0.000232\n",
              "1         1.45          1  0.000232  0.000465\n",
              "2         1.46          1  0.000232  0.000697\n",
              "3         1.47          1  0.000232  0.000930\n",
              "4         1.49          1  0.000232  0.001162\n",
              "..         ...        ...       ...       ...\n",
              "116       2.66          5  0.001162  0.996281\n",
              "117       2.67          6  0.001395  0.997675\n",
              "118       2.68          5  0.001162  0.998838\n",
              "119       2.69          2  0.000465  0.999303\n",
              "120       2.71          3  0.000697  1.000000\n",
              "\n",
              "[121 rows x 4 columns]"
            ]
          },
          "metadata": {},
          "execution_count": 23
        }
      ]
    },
    {
      "cell_type": "code",
      "metadata": {
        "colab": {
          "base_uri": "https://localhost:8080/",
          "height": 987
        },
        "id": "J7BF-BQt3yQo",
        "outputId": "72c497ae-63c9-43d5-b0a7-be1e816e689a"
      },
      "source": [
        "stats_df_5.plot(x = 'Bandwidth', y = ['cdf'], grid = True)\n",
        "stats_df_10.plot(x = 'Bandwidth', y = ['cdf'], grid = True)\n",
        "plt.show()"
      ],
      "execution_count": null,
      "outputs": [
        {
          "output_type": "display_data",
          "data": {
            "image/png": "[encoded data removed]",
            "text/plain": [
              "<Figure size 504x576 with 1 Axes>"
            ]
          },
          "metadata": {}
        },
        {
          "output_type": "display_data",
          "data": {
            "image/png": "[encoded data removed]",
            "text/plain": [
              "<Figure size 504x576 with 1 Axes>"
            ]
          },
          "metadata": {}
        }
      ]
    },
    {
      "cell_type": "code",
      "metadata": {
        "colab": {
          "base_uri": "https://localhost:8080/",
          "height": 502
        },
        "id": "sHE2b1nP34Xp",
        "outputId": "ffef99da-ba56-4fed-8ec8-ae339c50d22b"
      },
      "source": [
        "import matplotlib.patches as mpatches\n",
        "f, ax = plt.subplots(figsize=(8, 8))\n",
        "cmaps = ['Blues','Reds']\n",
        "label_patches = []\n",
        "label=\"5 Seconds\"\n",
        "ax = sns.kdeplot(diff_vent_5['Bandwidth'], cumulative=True)\n",
        "label_patch = mpatches.Patch(color=sns.color_palette(cmaps[0])[3],label=label)\n",
        "label_patches.append(label_patch)\n",
        "label1=\"10 Seconds\"\n",
        "ax = sns.kdeplot(diff_vent_10['Bandwidth'], cumulative=True)\n",
        "label_patch1= mpatches.Patch(color=sns.color_palette(cmaps[1])[2],label=label1)\n",
        "label_patches.append(label_patch1)\n",
        "plt.ylabel('CDF')\n",
        "plt.legend(handles=label_patches, loc='upper left')\n",
        "plt.show()"
      ],
      "execution_count": null,
      "outputs": [
        {
          "output_type": "display_data",
          "data": {
            "image/png": "[encoded data removed]",
            "text/plain": [
              "<Figure size 576x576 with 1 Axes>"
            ]
          },
          "metadata": {}
        }
      ]
    },
    {
      "cell_type": "code",
      "metadata": {
        "id": "1GqBYausT2nr"
      },
      "source": [
        ""
      ],
      "execution_count": null,
      "outputs": []
    },
    {
      "cell_type": "code",
      "metadata": {
        "id": "hRtqupmlW8yS"
      },
      "source": [
        ""
      ],
      "execution_count": null,
      "outputs": []
    },
    {
      "cell_type": "markdown",
      "metadata": {
        "id": "1vJF8pBiW9C3"
      },
      "source": [
        "#DiffVnetRegionClient_onlybd.txt\n",
        "f_client_diff_region_onlybd.txt"
      ]
    },
    {
      "cell_type": "code",
      "metadata": {
        "id": "krtKb1hgW9C4"
      },
      "source": [
        "diff_region_5 = pd.read_csv('DiffVnetRegionClient_onlybd.txt')\n",
        "diff_region_10 = pd.read_csv('f_client_diff_region_onlybd.txt')\n",
        "diff_region_5.reset_index(level=0,inplace=True)\n",
        "diff_region_10.reset_index(level=0,inplace=True)"
      ],
      "execution_count": 134,
      "outputs": []
    },
    {
      "cell_type": "code",
      "metadata": {
        "id": "qkoBJsZVW9C4"
      },
      "source": [
        "diff_region_5 = diff_region_5.loc[diff_region_5[\"Bandwidth\"]!=\"None\"]\n",
        "diff_region_10 = diff_region_10.loc[diff_region_10[\"Bandwidth\"]!=\"None\"]"
      ],
      "execution_count": 135,
      "outputs": []
    },
    {
      "cell_type": "code",
      "metadata": {
        "id": "MdNxz6eoW9C4"
      },
      "source": [
        "diff_region_5[\"Bandwidth\"]=diff_region_5[\"Bandwidth\"].astype(float)\n",
        "diff_region_10[\"Bandwidth\"]=diff_region_10[\"Bandwidth\"].astype(float)"
      ],
      "execution_count": 136,
      "outputs": []
    },
    {
      "cell_type": "code",
      "metadata": {
        "colab": {
          "base_uri": "https://localhost:8080/"
        },
        "id": "vKXsKAb3LU-Z",
        "outputId": "97254fb2-30ad-41db-e50c-3e1de2be9604"
      },
      "source": [
        "diff_region_10[\"Bandwidth\"].max()"
      ],
      "execution_count": 145,
      "outputs": [
        {
          "output_type": "execute_result",
          "data": {
            "text/plain": [
              "1.11"
            ]
          },
          "metadata": {},
          "execution_count": 145
        }
      ]
    },
    {
      "cell_type": "code",
      "metadata": {
        "colab": {
          "base_uri": "https://localhost:8080/",
          "height": 206
        },
        "id": "ibMjSLrLW9C4",
        "outputId": "99c8de3d-0906-4e53-d300-816599b64c7a"
      },
      "source": [
        "diff_region_5.head()"
      ],
      "execution_count": null,
      "outputs": [
        {
          "output_type": "execute_result",
          "data": {
            "text/html": [
              "<div>\n",
              "<style scoped>\n",
              "    .dataframe tbody tr th:only-of-type {\n",
              "        vertical-align: middle;\n",
              "    }\n",
              "\n",
              "    .dataframe tbody tr th {\n",
              "        vertical-align: top;\n",
              "    }\n",
              "\n",
              "    .dataframe thead th {\n",
              "        text-align: right;\n",
              "    }\n",
              "</style>\n",
              "<table border=\"1\" class=\"dataframe\">\n",
              "  <thead>\n",
              "    <tr style=\"text-align: right;\">\n",
              "      <th></th>\n",
              "      <th>index</th>\n",
              "      <th>Bandwidth</th>\n",
              "    </tr>\n",
              "  </thead>\n",
              "  <tbody>\n",
              "    <tr>\n",
              "      <th>0</th>\n",
              "      <td>0</td>\n",
              "      <td>1.050</td>\n",
              "    </tr>\n",
              "    <tr>\n",
              "      <th>1</th>\n",
              "      <td>1</td>\n",
              "      <td>0.833</td>\n",
              "    </tr>\n",
              "    <tr>\n",
              "      <th>2</th>\n",
              "      <td>2</td>\n",
              "      <td>0.907</td>\n",
              "    </tr>\n",
              "    <tr>\n",
              "      <th>3</th>\n",
              "      <td>3</td>\n",
              "      <td>0.826</td>\n",
              "    </tr>\n",
              "    <tr>\n",
              "      <th>4</th>\n",
              "      <td>4</td>\n",
              "      <td>0.873</td>\n",
              "    </tr>\n",
              "  </tbody>\n",
              "</table>\n",
              "</div>"
            ],
            "text/plain": [
              "   index  Bandwidth\n",
              "0      0      1.050\n",
              "1      1      0.833\n",
              "2      2      0.907\n",
              "3      3      0.826\n",
              "4      4      0.873"
            ]
          },
          "metadata": {},
          "execution_count": 38
        }
      ]
    },
    {
      "cell_type": "code",
      "metadata": {
        "colab": {
          "base_uri": "https://localhost:8080/",
          "height": 206
        },
        "id": "UuODkIbXW9C4",
        "outputId": "e771645a-a67f-4eab-f00e-5a3a14b24601"
      },
      "source": [
        "diff_region_10.head()"
      ],
      "execution_count": null,
      "outputs": [
        {
          "output_type": "execute_result",
          "data": {
            "text/html": [
              "<div>\n",
              "<style scoped>\n",
              "    .dataframe tbody tr th:only-of-type {\n",
              "        vertical-align: middle;\n",
              "    }\n",
              "\n",
              "    .dataframe tbody tr th {\n",
              "        vertical-align: top;\n",
              "    }\n",
              "\n",
              "    .dataframe thead th {\n",
              "        text-align: right;\n",
              "    }\n",
              "</style>\n",
              "<table border=\"1\" class=\"dataframe\">\n",
              "  <thead>\n",
              "    <tr style=\"text-align: right;\">\n",
              "      <th></th>\n",
              "      <th>index</th>\n",
              "      <th>Bandwidth</th>\n",
              "    </tr>\n",
              "  </thead>\n",
              "  <tbody>\n",
              "    <tr>\n",
              "      <th>0</th>\n",
              "      <td>0</td>\n",
              "      <td>0.832</td>\n",
              "    </tr>\n",
              "    <tr>\n",
              "      <th>1</th>\n",
              "      <td>1</td>\n",
              "      <td>1.010</td>\n",
              "    </tr>\n",
              "    <tr>\n",
              "      <th>2</th>\n",
              "      <td>2</td>\n",
              "      <td>0.910</td>\n",
              "    </tr>\n",
              "    <tr>\n",
              "      <th>3</th>\n",
              "      <td>3</td>\n",
              "      <td>0.937</td>\n",
              "    </tr>\n",
              "    <tr>\n",
              "      <th>4</th>\n",
              "      <td>4</td>\n",
              "      <td>0.877</td>\n",
              "    </tr>\n",
              "  </tbody>\n",
              "</table>\n",
              "</div>"
            ],
            "text/plain": [
              "   index  Bandwidth\n",
              "0      0      0.832\n",
              "1      1      1.010\n",
              "2      2      0.910\n",
              "3      3      0.937\n",
              "4      4      0.877"
            ]
          },
          "metadata": {},
          "execution_count": 39
        }
      ]
    },
    {
      "cell_type": "code",
      "metadata": {
        "colab": {
          "base_uri": "https://localhost:8080/",
          "height": 502
        },
        "id": "H38usBKZW9C4",
        "outputId": "a4161107-047e-4560-9c0a-fb60c63d8a92"
      },
      "source": [
        "import seaborn as sns\n",
        "sns.set_theme(style=\"whitegrid\")\n",
        "sns.set(rc={'figure.figsize':(7,8)})\n",
        "# ax = sns.boxplot(x=train_df[\"total_bill\"])\n",
        "diff_region_5[\"seconds\"]=5\n",
        "diff_region_10[\"seconds\"]=10\n",
        "box_df=pd.concat([diff_region_5, diff_region_10])  \n",
        "box_df[\"Bandwidth_in_GBits_per_sec\"] = box_df[\"Bandwidth\"]\n",
        "# ax = sns.boxplot(x=\"box_df\", y=\"value\", hue=\"Letter\", data=mdf)    \n",
        "ax = sns.boxplot(x=\"seconds\", y=\"Bandwidth_in_GBits_per_sec\", data=box_df, showfliers = False)\n",
        "plt.show()\n"
      ],
      "execution_count": null,
      "outputs": [
        {
          "output_type": "display_data",
          "data": {
            "image/png": "[encoded data removed]",
            "text/plain": [
              "<Figure size 504x576 with 1 Axes>"
            ]
          },
          "metadata": {}
        }
      ]
    },
    {
      "cell_type": "code",
      "metadata": {
        "colab": {
          "base_uri": "https://localhost:8080/",
          "height": 502
        },
        "id": "iZ0WljEOW9C5",
        "outputId": "da2dcf39-1f72-46ac-a15e-d361efb531c5"
      },
      "source": [
        "import matplotlib.patches as mpatches\n",
        "f, ax = plt.subplots(figsize=(8, 8))\n",
        "cmaps = ['Blues','Reds']\n",
        "label_patches = []\n",
        "label=\"5 Seconds\"\n",
        "ax = sns.kdeplot(diff_region_5['Bandwidth'], cumulative=True)\n",
        "label_patch = mpatches.Patch(color=sns.color_palette(cmaps[0])[3],label=label)\n",
        "label_patches.append(label_patch)\n",
        "label1=\"10 Seconds\"\n",
        "ax = sns.kdeplot(diff_region_10['Bandwidth'], cumulative=True)\n",
        "label_patch1= mpatches.Patch(color=sns.color_palette(cmaps[1])[2],label=label1)\n",
        "label_patches.append(label_patch1)\n",
        "plt.ylabel('CDF')\n",
        "plt.legend(handles=label_patches, loc='upper left')\n",
        "plt.show()"
      ],
      "execution_count": null,
      "outputs": [
        {
          "output_type": "display_data",
          "data": {
            "image/png": "[encoded data removed]",
            "text/plain": [
              "<Figure size 576x576 with 1 Axes>"
            ]
          },
          "metadata": {}
        }
      ]
    },
    {
      "cell_type": "code",
      "metadata": {
        "id": "aaAMQvq3Zfjs"
      },
      "source": [
        ""
      ],
      "execution_count": null,
      "outputs": []
    },
    {
      "cell_type": "markdown",
      "metadata": {
        "id": "94UkUtymas5H"
      },
      "source": [
        "#SameVnetClient_onlybd.txt\n",
        "f_client_same_vnet_onlybd.txt"
      ]
    },
    {
      "cell_type": "code",
      "metadata": {
        "id": "6TbavUsfas5I"
      },
      "source": [
        "same_region_5 = pd.read_csv('SameVnetClient_onlybd.txt')\n",
        "same_region_10 = pd.read_csv('f_client_same_vnet_onlybd.txt')\n",
        "same_region_5.reset_index(level=0,inplace=True)\n",
        "same_region_10.reset_index(level=0,inplace=True)"
      ],
      "execution_count": null,
      "outputs": []
    },
    {
      "cell_type": "code",
      "metadata": {
        "id": "KJFxnJ5Eas5J"
      },
      "source": [
        "same_region_5 = same_region_5.loc[same_region_5[\"Bandwidth\"]!=\"None\"]\n",
        "same_region_10 = same_region_10.loc[same_region_10[\"Bandwidth\"]!=\"None\"]"
      ],
      "execution_count": null,
      "outputs": []
    },
    {
      "cell_type": "code",
      "metadata": {
        "id": "znUnsa8Ras5J"
      },
      "source": [
        "same_region_5[\"Bandwidth\"]=same_region_5[\"Bandwidth\"].astype(float)\n",
        "same_region_10[\"Bandwidth\"]=same_region_10[\"Bandwidth\"].astype(float)"
      ],
      "execution_count": null,
      "outputs": []
    },
    {
      "cell_type": "code",
      "metadata": {
        "colab": {
          "base_uri": "https://localhost:8080/"
        },
        "id": "u9Ubu1c7Lpx1",
        "outputId": "1a4a7372-20df-49da-d1de-31fcb0b7b53d"
      },
      "source": [
        "same_region_10[\"Bandwidth\"].min()"
      ],
      "execution_count": 143,
      "outputs": [
        {
          "output_type": "execute_result",
          "data": {
            "text/plain": [
              "2.18"
            ]
          },
          "metadata": {},
          "execution_count": 143
        }
      ]
    },
    {
      "cell_type": "code",
      "metadata": {
        "colab": {
          "base_uri": "https://localhost:8080/",
          "height": 206
        },
        "id": "9uaRcgtmas5J",
        "outputId": "f8a0d324-0dbf-429b-fddd-654b69f99c4f"
      },
      "source": [
        "same_region_5.head()"
      ],
      "execution_count": null,
      "outputs": [
        {
          "output_type": "execute_result",
          "data": {
            "text/html": [
              "<div>\n",
              "<style scoped>\n",
              "    .dataframe tbody tr th:only-of-type {\n",
              "        vertical-align: middle;\n",
              "    }\n",
              "\n",
              "    .dataframe tbody tr th {\n",
              "        vertical-align: top;\n",
              "    }\n",
              "\n",
              "    .dataframe thead th {\n",
              "        text-align: right;\n",
              "    }\n",
              "</style>\n",
              "<table border=\"1\" class=\"dataframe\">\n",
              "  <thead>\n",
              "    <tr style=\"text-align: right;\">\n",
              "      <th></th>\n",
              "      <th>index</th>\n",
              "      <th>Bandwidth</th>\n",
              "    </tr>\n",
              "  </thead>\n",
              "  <tbody>\n",
              "    <tr>\n",
              "      <th>0</th>\n",
              "      <td>0</td>\n",
              "      <td>2.37</td>\n",
              "    </tr>\n",
              "    <tr>\n",
              "      <th>1</th>\n",
              "      <td>1</td>\n",
              "      <td>2.38</td>\n",
              "    </tr>\n",
              "    <tr>\n",
              "      <th>2</th>\n",
              "      <td>2</td>\n",
              "      <td>2.36</td>\n",
              "    </tr>\n",
              "    <tr>\n",
              "      <th>3</th>\n",
              "      <td>3</td>\n",
              "      <td>2.22</td>\n",
              "    </tr>\n",
              "    <tr>\n",
              "      <th>4</th>\n",
              "      <td>4</td>\n",
              "      <td>2.38</td>\n",
              "    </tr>\n",
              "  </tbody>\n",
              "</table>\n",
              "</div>"
            ],
            "text/plain": [
              "   index  Bandwidth\n",
              "0      0       2.37\n",
              "1      1       2.38\n",
              "2      2       2.36\n",
              "3      3       2.22\n",
              "4      4       2.38"
            ]
          },
          "metadata": {},
          "execution_count": 67
        }
      ]
    },
    {
      "cell_type": "code",
      "metadata": {
        "colab": {
          "base_uri": "https://localhost:8080/",
          "height": 206
        },
        "id": "PmaP5oolas5J",
        "outputId": "070ca577-b2fb-40d7-cf6f-8eddeb3ccaf9"
      },
      "source": [
        "same_region_10.head()"
      ],
      "execution_count": null,
      "outputs": [
        {
          "output_type": "execute_result",
          "data": {
            "text/html": [
              "<div>\n",
              "<style scoped>\n",
              "    .dataframe tbody tr th:only-of-type {\n",
              "        vertical-align: middle;\n",
              "    }\n",
              "\n",
              "    .dataframe tbody tr th {\n",
              "        vertical-align: top;\n",
              "    }\n",
              "\n",
              "    .dataframe thead th {\n",
              "        text-align: right;\n",
              "    }\n",
              "</style>\n",
              "<table border=\"1\" class=\"dataframe\">\n",
              "  <thead>\n",
              "    <tr style=\"text-align: right;\">\n",
              "      <th></th>\n",
              "      <th>index</th>\n",
              "      <th>Bandwidth</th>\n",
              "    </tr>\n",
              "  </thead>\n",
              "  <tbody>\n",
              "    <tr>\n",
              "      <th>0</th>\n",
              "      <td>0</td>\n",
              "      <td>2.62</td>\n",
              "    </tr>\n",
              "    <tr>\n",
              "      <th>1</th>\n",
              "      <td>1</td>\n",
              "      <td>2.74</td>\n",
              "    </tr>\n",
              "    <tr>\n",
              "      <th>2</th>\n",
              "      <td>2</td>\n",
              "      <td>2.66</td>\n",
              "    </tr>\n",
              "    <tr>\n",
              "      <th>3</th>\n",
              "      <td>3</td>\n",
              "      <td>2.49</td>\n",
              "    </tr>\n",
              "    <tr>\n",
              "      <th>4</th>\n",
              "      <td>4</td>\n",
              "      <td>2.57</td>\n",
              "    </tr>\n",
              "  </tbody>\n",
              "</table>\n",
              "</div>"
            ],
            "text/plain": [
              "   index  Bandwidth\n",
              "0      0       2.62\n",
              "1      1       2.74\n",
              "2      2       2.66\n",
              "3      3       2.49\n",
              "4      4       2.57"
            ]
          },
          "metadata": {},
          "execution_count": 68
        }
      ]
    },
    {
      "cell_type": "code",
      "metadata": {
        "colab": {
          "base_uri": "https://localhost:8080/",
          "height": 502
        },
        "id": "yVCOjOJIas5J",
        "outputId": "4606cfb9-db7d-4a69-ada9-eff79357640f"
      },
      "source": [
        "import seaborn as sns\n",
        "sns.set_theme(style=\"whitegrid\")\n",
        "sns.set(rc={'figure.figsize':(7,8)})\n",
        "# ax = sns.boxplot(x=train_df[\"total_bill\"])\n",
        "same_region_5[\"seconds\"]=5\n",
        "same_region_10[\"seconds\"]=10\n",
        "box_df=pd.concat([same_region_5, same_region_10])  \n",
        "box_df[\"Bandwidth_in_GBits_per_sec\"] = box_df[\"Bandwidth\"]\n",
        "# ax = sns.boxplot(x=\"box_df\", y=\"value\", hue=\"Letter\", data=mdf)    \n",
        "ax = sns.boxplot(x=\"seconds\", y=\"Bandwidth_in_GBits_per_sec\", data=box_df, showfliers = False)\n",
        "plt.show()\n"
      ],
      "execution_count": null,
      "outputs": [
        {
          "output_type": "display_data",
          "data": {
            "image/png": "[encoded data removed]",
            "text/plain": [
              "<Figure size 504x576 with 1 Axes>"
            ]
          },
          "metadata": {}
        }
      ]
    },
    {
      "cell_type": "code",
      "metadata": {
        "colab": {
          "base_uri": "https://localhost:8080/",
          "height": 502
        },
        "id": "tvT35c7Oas5J",
        "outputId": "9f206223-2183-4882-82ec-52beb4db763f"
      },
      "source": [
        "import matplotlib.patches as mpatches\n",
        "f, ax = plt.subplots(figsize=(8, 8))\n",
        "cmaps = ['Blues','Reds']\n",
        "label_patches = []\n",
        "label=\"5 Seconds\"\n",
        "ax = sns.kdeplot(same_region_5['Bandwidth'], cumulative=True)\n",
        "label_patch = mpatches.Patch(color=sns.color_palette(cmaps[0])[3],label=label)\n",
        "label_patches.append(label_patch)\n",
        "label1=\"10 Seconds\"\n",
        "ax = sns.kdeplot(same_region_10['Bandwidth'], cumulative=True)\n",
        "label_patch1= mpatches.Patch(color=sns.color_palette(cmaps[1])[2],label=label1)\n",
        "label_patches.append(label_patch1)\n",
        "plt.ylabel('CDF')\n",
        "plt.legend(handles=label_patches, loc='upper left')\n",
        "plt.show()"
      ],
      "execution_count": null,
      "outputs": [
        {
          "output_type": "display_data",
          "data": {
            "image/png": "[encoded data removed]",
            "text/plain": [
              "<Figure size 576x576 with 1 Axes>"
            ]
          },
          "metadata": {}
        }
      ]
    },
    {
      "cell_type": "code",
      "metadata": {
        "colab": {
          "base_uri": "https://localhost:8080/"
        },
        "id": "xN0LI46fbJzZ",
        "outputId": "bfd39d3c-11f8-41b6-ffd6-3ca8e9d2ec96"
      },
      "source": [
        "sns.color_palette(\"Set2\")[1]"
      ],
      "execution_count": null,
      "outputs": [
        {
          "output_type": "execute_result",
          "data": {
            "text/plain": [
              "(0.9882352941176471, 0.5529411764705883, 0.3843137254901961)"
            ]
          },
          "metadata": {},
          "execution_count": 94
        }
      ]
    },
    {
      "cell_type": "markdown",
      "metadata": {
        "id": "f0foXzd9cXlO"
      },
      "source": [
        "#gcp-client_onlybd.txt"
      ]
    },
    {
      "cell_type": "code",
      "metadata": {
        "id": "y-sg7OV1cXlP"
      },
      "source": [
        "gcp_5 = pd.read_csv('gcp-client_onlybd.txt')\n",
        "gcp_5.reset_index(level=0,inplace=True)"
      ],
      "execution_count": 5,
      "outputs": []
    },
    {
      "cell_type": "code",
      "metadata": {
        "id": "bpxEY876cXlP"
      },
      "source": [
        "gcp_5 = gcp_5.loc[gcp_5[\"Bandwidth\"]!=\"None\"]"
      ],
      "execution_count": 6,
      "outputs": []
    },
    {
      "cell_type": "code",
      "metadata": {
        "id": "vudcoNpOcXlP"
      },
      "source": [
        "gcp_5[\"Bandwidth\"]=gcp_5[\"Bandwidth\"].astype(float)"
      ],
      "execution_count": 7,
      "outputs": []
    },
    {
      "cell_type": "code",
      "metadata": {
        "colab": {
          "base_uri": "https://localhost:8080/",
          "height": 206
        },
        "id": "YrXNf1ZqcXlP",
        "outputId": "ae51da02-a872-494c-92fa-c2315feffdff"
      },
      "source": [
        "gcp_5.head()"
      ],
      "execution_count": 8,
      "outputs": [
        {
          "output_type": "execute_result",
          "data": {
            "text/html": [
              "<div>\n",
              "<style scoped>\n",
              "    .dataframe tbody tr th:only-of-type {\n",
              "        vertical-align: middle;\n",
              "    }\n",
              "\n",
              "    .dataframe tbody tr th {\n",
              "        vertical-align: top;\n",
              "    }\n",
              "\n",
              "    .dataframe thead th {\n",
              "        text-align: right;\n",
              "    }\n",
              "</style>\n",
              "<table border=\"1\" class=\"dataframe\">\n",
              "  <thead>\n",
              "    <tr style=\"text-align: right;\">\n",
              "      <th></th>\n",
              "      <th>index</th>\n",
              "      <th>Bandwidth</th>\n",
              "    </tr>\n",
              "  </thead>\n",
              "  <tbody>\n",
              "    <tr>\n",
              "      <th>0</th>\n",
              "      <td>0</td>\n",
              "      <td>6.49</td>\n",
              "    </tr>\n",
              "    <tr>\n",
              "      <th>1</th>\n",
              "      <td>1</td>\n",
              "      <td>5.49</td>\n",
              "    </tr>\n",
              "    <tr>\n",
              "      <th>2</th>\n",
              "      <td>2</td>\n",
              "      <td>6.61</td>\n",
              "    </tr>\n",
              "    <tr>\n",
              "      <th>3</th>\n",
              "      <td>3</td>\n",
              "      <td>6.63</td>\n",
              "    </tr>\n",
              "    <tr>\n",
              "      <th>4</th>\n",
              "      <td>4</td>\n",
              "      <td>6.11</td>\n",
              "    </tr>\n",
              "  </tbody>\n",
              "</table>\n",
              "</div>"
            ],
            "text/plain": [
              "   index  Bandwidth\n",
              "0      0       6.49\n",
              "1      1       5.49\n",
              "2      2       6.61\n",
              "3      3       6.63\n",
              "4      4       6.11"
            ]
          },
          "metadata": {},
          "execution_count": 8
        }
      ]
    },
    {
      "cell_type": "code",
      "metadata": {
        "colab": {
          "base_uri": "https://localhost:8080/"
        },
        "id": "YeVTF5FH54En",
        "outputId": "472086bd-b7b4-4bc3-a7d2-34955556a9a3"
      },
      "source": [
        "gcp_5[\"Bandwidth\"].min()"
      ],
      "execution_count": 10,
      "outputs": [
        {
          "output_type": "execute_result",
          "data": {
            "text/plain": [
              "4.89"
            ]
          },
          "metadata": {},
          "execution_count": 10
        }
      ]
    },
    {
      "cell_type": "code",
      "metadata": {
        "colab": {
          "base_uri": "https://localhost:8080/",
          "height": 230
        },
        "id": "052LWUYbcXlQ",
        "outputId": "3add7710-949b-4f2e-c69f-b3bb4d7fa23d"
      },
      "source": [
        "import seaborn as sns\n",
        "sns.set_theme(style=\"whitegrid\")\n",
        "sns.set(rc={'figure.figsize':(7,3)})\n",
        "# ax = sns.boxplot(x=train_df[\"total_bill\"])\n",
        "gcp_5[\"seconds\"]=5\n",
        "# same_region_10[\"seconds\"]=10\n",
        "box_df=pd.concat([gcp_5])  \n",
        "box_df[\"Bandwidth_in_GBits_per_sec\"] = box_df[\"Bandwidth\"]\n",
        "# ax = sns.boxplot(x=\"box_df\", y=\"value\", hue=\"Letter\", data=mdf)    \n",
        "ax = sns.boxplot( x=\"Bandwidth_in_GBits_per_sec\", data=box_df)\n",
        "plt.show()\n"
      ],
      "execution_count": null,
      "outputs": [
        {
          "output_type": "display_data",
          "data": {
            "image/png": "[encoded data removed]",
            "text/plain": [
              "<Figure size 504x216 with 1 Axes>"
            ]
          },
          "metadata": {}
        }
      ]
    },
    {
      "cell_type": "code",
      "metadata": {
        "colab": {
          "base_uri": "https://localhost:8080/",
          "height": 502
        },
        "id": "a_2toLckcXlQ",
        "outputId": "4e82cad9-826c-4d81-bc98-c101b8385be6"
      },
      "source": [
        "import matplotlib.patches as mpatches\n",
        "f, ax = plt.subplots(figsize=(8, 8))\n",
        "cmaps = ['Blues','Reds']\n",
        "label_patches = []\n",
        "label=\"5 Seconds\"\n",
        "ax = sns.kdeplot(gcp_5['Bandwidth'], cumulative=True)\n",
        "label_patch = mpatches.Patch(color=sns.color_palette(cmaps[0])[2],label=label)\n",
        "label_patches.append(label_patch)\n",
        "# label1=\"10 Seconds\"\n",
        "# ax = sns.kdeplot(same_region_10['Bandwidth'], cumulative=True)\n",
        "# label_patch1= mpatches.Patch(color=sns.color_palette(cmaps[1])[3],label=label1)\n",
        "# label_patches.append(label_patch1)\n",
        "plt.ylabel('CDF')\n",
        "plt.legend(handles=label_patches, loc='upper left')\n",
        "plt.show()"
      ],
      "execution_count": null,
      "outputs": [
        {
          "output_type": "display_data",
          "data": {
            "image/png": "[encoded data removed]",
            "text/plain": [
              "<Figure size 576x576 with 1 Axes>"
            ]
          },
          "metadata": {}
        }
      ]
    },
    {
      "cell_type": "code",
      "metadata": {
        "id": "C0JfWCSwcc00"
      },
      "source": [
        ""
      ],
      "execution_count": null,
      "outputs": []
    },
    {
      "cell_type": "markdown",
      "metadata": {
        "id": "GJ9ja5zkhk2N"
      },
      "source": [
        "# 5 seconds"
      ]
    },
    {
      "cell_type": "code",
      "metadata": {
        "colab": {
          "base_uri": "https://localhost:8080/",
          "height": 518
        },
        "id": "kmhX2vudhjCP",
        "outputId": "80a7bd38-8671-4340-8fde-8e4b82fbf34c"
      },
      "source": [
        "import matplotlib.patches as mpatches\n",
        "f, ax = plt.subplots(figsize=(8, 8))\n",
        "cmaps = ['Blues','Reds', 'Greens']\n",
        "label_patches = []\n",
        "label=\"Same Region same Vnet\"\n",
        "ax = sns.kdeplot(same_region_5['Bandwidth'], cumulative=True)\n",
        "label_patch = mpatches.Patch(color=sns.color_palette(cmaps[0])[3],label=label)\n",
        "label_patches.append(label_patch)\n",
        "label1=\"Same Region Differnet Vnet\"\n",
        "ax = sns.kdeplot(diff_vent_5['Bandwidth'], cumulative=True)\n",
        "label_patch1= mpatches.Patch(color=sns.color_palette(cmaps[1])[2],label=label1)\n",
        "label_patches.append(label_patch1)\n",
        "label2=\"Different Region Different Vnet\"\n",
        "ax = sns.kdeplot(diff_region_5['Bandwidth'], cumulative=True)\n",
        "label_patch1= mpatches.Patch(color=sns.color_palette(cmaps[2])[2],label=label2)\n",
        "label_patches.append(label_patch1)\n",
        "plt.ylabel('CDF')\n",
        "plt.title(\"5 Seconds run\")\n",
        "plt.legend(handles=label_patches, loc='upper left')\n",
        "plt.show()"
      ],
      "execution_count": null,
      "outputs": [
        {
          "output_type": "display_data",
          "data": {
            "image/png": "[encoded data removed]",
            "text/plain": [
              "<Figure size 576x576 with 1 Axes>"
            ]
          },
          "metadata": {}
        }
      ]
    },
    {
      "cell_type": "markdown",
      "metadata": {
        "id": "PpEE28VwjkUh"
      },
      "source": [
        "# 10 Seconds"
      ]
    },
    {
      "cell_type": "code",
      "metadata": {
        "colab": {
          "base_uri": "https://localhost:8080/",
          "height": 518
        },
        "id": "r8CQbXoCiXcS",
        "outputId": "01922761-2f08-4865-b66f-28124b2bbeca"
      },
      "source": [
        "import matplotlib.patches as mpatches\n",
        "f, ax = plt.subplots(figsize=(8, 8))\n",
        "cmaps = ['Blues','Reds', 'Greens']\n",
        "label_patches = []\n",
        "label=\"Same Region same Vnet\"\n",
        "ax = sns.kdeplot(same_region_10['Bandwidth'], cumulative=True)\n",
        "label_patch = mpatches.Patch(color=sns.color_palette(cmaps[0])[3],label=label)\n",
        "label_patches.append(label_patch)\n",
        "label1=\"Same Region Differnet Vnet\"\n",
        "ax = sns.kdeplot(diff_vent_10['Bandwidth'], cumulative=True)\n",
        "label_patch1= mpatches.Patch(color=sns.color_palette(cmaps[1])[2],label=label1)\n",
        "label_patches.append(label_patch1)\n",
        "label2=\"Different Region Different Vnet\"\n",
        "ax = sns.kdeplot(diff_region_10['Bandwidth'], cumulative=True)\n",
        "label_patch1= mpatches.Patch(color=sns.color_palette(cmaps[2])[2],label=label2)\n",
        "label_patches.append(label_patch1)\n",
        "plt.ylabel('CDF')\n",
        "plt.title(\"10 Seconds run\")\n",
        "plt.legend(handles=label_patches, loc='upper left')\n",
        "plt.show()"
      ],
      "execution_count": null,
      "outputs": [
        {
          "output_type": "display_data",
          "data": {
            "image/png": "[encoded data removed]",
            "text/plain": [
              "<Figure size 576x576 with 1 Axes>"
            ]
          },
          "metadata": {}
        }
      ]
    },
    {
      "cell_type": "code",
      "metadata": {
        "id": "N7hxkCxRjpxO"
      },
      "source": [
        ""
      ],
      "execution_count": null,
      "outputs": []
    },
    {
      "cell_type": "markdown",
      "metadata": {
        "id": "k9m_o_L99ths"
      },
      "source": [
        "# Latency"
      ]
    },
    {
      "cell_type": "code",
      "metadata": {
        "id": "iqp5cdd1-CfJ"
      },
      "source": [
        "latency = pd.read_csv('rtt.data',dtype=float)\n",
        "latency.reset_index(level=0,inplace=True)"
      ],
      "execution_count": null,
      "outputs": []
    },
    {
      "cell_type": "code",
      "metadata": {
        "id": "-cd6d3bu-CfK"
      },
      "source": [
        "latency = latency.loc[latency[\"Latency\"]!=\"None\"]"
      ],
      "execution_count": null,
      "outputs": []
    },
    {
      "cell_type": "code",
      "metadata": {
        "id": "RurUxiT6-CfK"
      },
      "source": [
        "latency[\"Latency\"]=latency[\"Latency\"].astype(float)\n",
        "latency[\"Latency\"]=latency[\"Latency\"]*10**6"
      ],
      "execution_count": null,
      "outputs": []
    },
    {
      "cell_type": "code",
      "metadata": {
        "colab": {
          "base_uri": "https://localhost:8080/",
          "height": 206
        },
        "id": "bevPmWpW-CfK",
        "outputId": "73d0071e-d009-4228-c1bc-2e6fed45879d"
      },
      "source": [
        "latency.head()"
      ],
      "execution_count": null,
      "outputs": [
        {
          "output_type": "execute_result",
          "data": {
            "text/html": [
              "<div>\n",
              "<style scoped>\n",
              "    .dataframe tbody tr th:only-of-type {\n",
              "        vertical-align: middle;\n",
              "    }\n",
              "\n",
              "    .dataframe tbody tr th {\n",
              "        vertical-align: top;\n",
              "    }\n",
              "\n",
              "    .dataframe thead th {\n",
              "        text-align: right;\n",
              "    }\n",
              "</style>\n",
              "<table border=\"1\" class=\"dataframe\">\n",
              "  <thead>\n",
              "    <tr style=\"text-align: right;\">\n",
              "      <th></th>\n",
              "      <th>index</th>\n",
              "      <th>Latency</th>\n",
              "    </tr>\n",
              "  </thead>\n",
              "  <tbody>\n",
              "    <tr>\n",
              "      <th>0</th>\n",
              "      <td>0</td>\n",
              "      <td>9.75</td>\n",
              "    </tr>\n",
              "    <tr>\n",
              "      <th>1</th>\n",
              "      <td>1</td>\n",
              "      <td>8.00</td>\n",
              "    </tr>\n",
              "    <tr>\n",
              "      <th>2</th>\n",
              "      <td>2</td>\n",
              "      <td>9.75</td>\n",
              "    </tr>\n",
              "    <tr>\n",
              "      <th>3</th>\n",
              "      <td>3</td>\n",
              "      <td>8.50</td>\n",
              "    </tr>\n",
              "    <tr>\n",
              "      <th>4</th>\n",
              "      <td>4</td>\n",
              "      <td>6.50</td>\n",
              "    </tr>\n",
              "  </tbody>\n",
              "</table>\n",
              "</div>"
            ],
            "text/plain": [
              "   index  Latency\n",
              "0      0     9.75\n",
              "1      1     8.00\n",
              "2      2     9.75\n",
              "3      3     8.50\n",
              "4      4     6.50"
            ]
          },
          "metadata": {},
          "execution_count": 123
        }
      ]
    },
    {
      "cell_type": "code",
      "metadata": {
        "colab": {
          "base_uri": "https://localhost:8080/",
          "height": 502
        },
        "id": "Zvh6muQk9sNu",
        "outputId": "3482aff1-d63a-48ca-9056-667aebb1e5a0"
      },
      "source": [
        "import matplotlib.patches as mpatches\n",
        "f, ax = plt.subplots(figsize=(8, 8))\n",
        "cmaps = ['Blues','Reds', 'Greens']\n",
        "label_patches = []\n",
        "label=\"Latency in 10 seconds run\"\n",
        "box_df[\"Latency_in_milliseconds\"] = latency[\"Latency\"]\n",
        "ax = sns.kdeplot(box_df['Latency_in_milliseconds'], cumulative=True)\n",
        "label_patch = mpatches.Patch(color=sns.color_palette(cmaps[0])[3],label=label)\n",
        "label_patches.append(label_patch)\n",
        "plt.ylabel('CDF')\n",
        "plt.legend(handles=label_patches, loc='upper left')\n",
        "plt.show()"
      ],
      "execution_count": null,
      "outputs": [
        {
          "output_type": "display_data",
          "data": {
            "image/png": "[encoded data removed]",
            "text/plain": [
              "<Figure size 576x576 with 1 Axes>"
            ]
          },
          "metadata": {}
        }
      ]
    },
    {
      "cell_type": "code",
      "metadata": {
        "colab": {
          "base_uri": "https://localhost:8080/",
          "height": 230
        },
        "id": "ePixXiS0_GRf",
        "outputId": "22b52ed1-ad5d-45bc-a395-02e93e51633f"
      },
      "source": [
        "import seaborn as sns\n",
        "sns.set_theme(style=\"whitegrid\")\n",
        "sns.set(rc={'figure.figsize':(7,3)})\n",
        "# ax = sns.boxplot(x=train_df[\"total_bill\"])\n",
        "latency[\"seconds\"]=10\n",
        "# same_region_10[\"seconds\"]=10\n",
        "box_df=pd.concat([latency])  \n",
        "box_df[\"Latency_in_milliseconds\"] = box_df[\"Latency\"]\n",
        "# ax = sns.boxplot(x=\"box_df\", y=\"value\", hue=\"Letter\", data=mdf)    \n",
        "ax = sns.boxplot( x=\"Latency_in_milliseconds\", data=box_df, showfliers = False)\n",
        "plt.show()\n"
      ],
      "execution_count": null,
      "outputs": [
        {
          "output_type": "display_data",
          "data": {
            "image/png": "[encoded data removed]",
            "text/plain": [
              "<Figure size 504x216 with 1 Axes>"
            ]
          },
          "metadata": {}
        }
      ]
    },
    {
      "cell_type": "code",
      "metadata": {
        "id": "2At2uNP1AHt8"
      },
      "source": [
        ""
      ],
      "execution_count": null,
      "outputs": []
    }
  ]
}